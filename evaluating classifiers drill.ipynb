{
 "cells": [
  {
   "cell_type": "code",
   "execution_count": 358,
   "metadata": {},
   "outputs": [],
   "source": [
    "%matplotlib inline\n",
    "import numpy as np\n",
    "import pandas as pd\n",
    "import scipy\n",
    "import sklearn\n",
    "import matplotlib.pyplot as plt\n",
    "import seaborn as sns\n",
    "\n"
   ]
  },
  {
   "cell_type": "markdown",
   "metadata": {},
   "source": [
    "# Version 1:"
   ]
  },
  {
   "cell_type": "code",
   "execution_count": 359,
   "metadata": {},
   "outputs": [
    {
     "name": "stdout",
     "output_type": "stream",
     "text": [
      "   index                                            message  sentiment\n",
      "0      0  A very, very, very slow-moving, aimless movie ...        0.0\n",
      "1      1  Not sure who was more lost - the flat characte...        0.0\n",
      "2      2  Attempting artiness with black & white and cle...        0.0\n",
      "3      3       Very little music or anything to speak of.          0.0\n",
      "4      4  The best scene in the movie was when Gerardo i...        1.0\n"
     ]
    }
   ],
   "source": [
    "df = pd.read_csv(\"imdb_labelled.csv\", header=None)\n",
    "df.columns = ['message', 'sentiment']\n",
    "df = df.dropna()\n",
    "df = df.drop_duplicates()\n",
    "df = df.reset_index()\n",
    "\n",
    "print(df.head())"
   ]
  },
  {
   "cell_type": "code",
   "execution_count": 360,
   "metadata": {},
   "outputs": [],
   "source": [
    "#print(df.loc[300:400, [\"message\", \"sentiment\"]])"
   ]
  },
  {
   "cell_type": "code",
   "execution_count": 361,
   "metadata": {},
   "outputs": [],
   "source": [
    "keywords = ['bad', 'boring','worst', 'wasted', 'insult', 'horrible', 'embarrassing', 'predictable',\n",
    "            'hated', 'very', 'not', 'lost', 'average', 'problem', 'nothing', 'ridiculous', 'pretentious', \n",
    "            'long', 'suffered', 'weak', 'vomit', 'tolerate']\n",
    "            \n",
    "            \n",
    "for key in keywords:\n",
    "\n",
    "    df[str(key)] = df.message.str.contains(\n",
    "        ' ' + str(key) + ' ',\n",
    "        case=False\n",
    "    )\n"
   ]
  },
  {
   "cell_type": "markdown",
   "metadata": {},
   "source": [
    "## The heat map below shows that our features are independent from each other.  Some variables, such as the words 'frustrated' and 'sabotage',were initially put into our keywords, but it had alot of correlation with the other variables, so I took them out of the model."
   ]
  },
  {
   "cell_type": "code",
   "execution_count": 362,
   "metadata": {},
   "outputs": [
    {
     "name": "stdout",
     "output_type": "stream",
     "text": [
      "AxesSubplot(0.125,0.125;0.62x0.755)\n"
     ]
    },
    {
     "data": {
      "image/png": "[encoded data removed]",
      "text/plain": [
       "<Figure size 432x288 with 2 Axes>"
      ]
     },
     "metadata": {
      "needs_background": "light"
     },
     "output_type": "display_data"
    }
   ],
   "source": [
    "df_heat = sns.heatmap(df.corr(), vmin= -1)\n",
    "\n",
    "print(df_heat)"
   ]
  },
  {
   "cell_type": "markdown",
   "metadata": {},
   "source": [
    "## Using the feature variables, the Bernoulli classifer I setup below using sklearn will test how good our model is at labeling the correct sentiment with each message in our dataset."
   ]
  },
  {
   "cell_type": "code",
   "execution_count": 363,
   "metadata": {},
   "outputs": [],
   "source": [
    "data = df[keywords]\n",
    "target = df['sentiment']"
   ]
  },
  {
   "cell_type": "code",
   "execution_count": 364,
   "metadata": {},
   "outputs": [
    {
     "name": "stdout",
     "output_type": "stream",
     "text": [
      "Number of mislabeled points out of a total 992 points : 411\n"
     ]
    }
   ],
   "source": [
    "# Our data is binary / boolean, so we're importing the Bernoulli classifier.\n",
    "from sklearn.naive_bayes import BernoulliNB\n",
    "\n",
    "# Instantiate our model and store it in a new variable.\n",
    "bnb = BernoulliNB()\n",
    "\n",
    "# Fit our model to the data.\n",
    "bnb.fit(data, target)\n",
    "\n",
    "# Classify, storing the result in a new variable.\n",
    "y_pred = bnb.predict(data)\n",
    "\n",
    "#print(y_pred)\n",
    "\n",
    "# Display our results.\n",
    "print(\"Number of mislabeled points out of a total {} points : {}\".format(\n",
    "    data.shape[0],\n",
    "    (target != y_pred).sum()\n",
    "))"
   ]
  },
  {
   "cell_type": "code",
   "execution_count": 365,
   "metadata": {},
   "outputs": [
    {
     "data": {
      "text/plain": [
       "array([[113, 386],\n",
       "       [ 25, 468]], dtype=int64)"
      ]
     },
     "execution_count": 365,
     "metadata": {},
     "output_type": "execute_result"
    }
   ],
   "source": [
    "from sklearn.metrics import confusion_matrix\n",
    "confusion_matrix(target, y_pred)"
   ]
  },
  {
   "cell_type": "markdown",
   "metadata": {},
   "source": [
    "### The confusion matrix above details which kind of messages our model is mislabeling.  The \"386\" represents the messages that had negative sentiment(0), but the model predicted them as positive sentiment(1); these represent the false positives.  The \"25\" represents the messages that represented positive sentiment(1), but the model predicted it as negative sentiment(0); these are the false negatives.  From this we can see that the majority of our errors are from the model predicting positive sentiment(1), when actually it was negative sentiment(0)."
   ]
  },
  {
   "cell_type": "markdown",
   "metadata": {},
   "source": [
    "# Version 2:"
   ]
  },
  {
   "cell_type": "code",
   "execution_count": 366,
   "metadata": {},
   "outputs": [],
   "source": [
    "keywords2 = ['bad', 'boring','worst', 'wasted', 'insult', 'horrible', 'embarrassing', 'predictable',\n",
    "            'hated', 'very', 'not', 'lost', 'average', 'problem', 'nothing', 'ridiculous', 'pretentious', \n",
    "            'long', 'suffered', 'weak', 'vomit', 'tolerate', 'sloppy', 'tortured', 'rough', 'irritating',\n",
    "            'idiot', 'mess', 'excuse', 'bother', 'failed', 'stupid', 'awful', 'painful', 'hypocrisy', 'rubbish', 'laughable']\n",
    "            \n",
    "for key2 in keywords2:\n",
    "\n",
    "    df[str(key2)] = df.message.str.contains(\n",
    "        ' ' + str(key2) + ' ',\n",
    "        case=False\n",
    "    )"
   ]
  },
  {
   "cell_type": "code",
   "execution_count": 367,
   "metadata": {},
   "outputs": [
    {
     "name": "stdout",
     "output_type": "stream",
     "text": [
      "AxesSubplot(0.125,0.125;0.62x0.755)\n"
     ]
    },
    {
     "data": {
      "image/png": "[encoded data removed]",
      "text/plain": [
       "<Figure size 432x288 with 2 Axes>"
      ]
     },
     "metadata": {
      "needs_background": "light"
     },
     "output_type": "display_data"
    }
   ],
   "source": [
    "df_heat = sns.heatmap(df.corr(), vmin= -1)\n",
    "\n",
    "print(df_heat)"
   ]
  },
  {
   "cell_type": "code",
   "execution_count": 368,
   "metadata": {},
   "outputs": [],
   "source": [
    "data2 = df[keywords2]\n",
    "target2 = df['sentiment']"
   ]
  },
  {
   "cell_type": "code",
   "execution_count": 369,
   "metadata": {},
   "outputs": [
    {
     "name": "stdout",
     "output_type": "stream",
     "text": [
      "Number of mislabeled points out of a total 992 points : 391\n"
     ]
    }
   ],
   "source": [
    "# Our data is binary / boolean, so we're importing the Bernoulli classifier.\n",
    "from sklearn.naive_bayes import BernoulliNB\n",
    "\n",
    "# Instantiate our model and store it in a new variable.\n",
    "bnb2 = BernoulliNB()\n",
    "\n",
    "# Fit our model to the data.\n",
    "bnb2.fit(data2, target2)\n",
    "\n",
    "# Classify, storing the result in a new variable.\n",
    "y_pred2 = bnb2.predict(data2)\n",
    "\n",
    "#print(y_pred)\n",
    "\n",
    "# Display our results.\n",
    "print(\"Number of mislabeled points out of a total {} points : {}\".format(\n",
    "    data2.shape[0],\n",
    "    (target2 != y_pred2).sum()\n",
    "))"
   ]
  },
  {
   "cell_type": "code",
   "execution_count": 370,
   "metadata": {},
   "outputs": [
    {
     "data": {
      "text/plain": [
       "array([[133, 366],\n",
       "       [ 25, 468]], dtype=int64)"
      ]
     },
     "execution_count": 370,
     "metadata": {},
     "output_type": "execute_result"
    }
   ],
   "source": [
    "from sklearn.metrics import confusion_matrix\n",
    "confusion_matrix(target2, y_pred2)"
   ]
  },
  {
   "cell_type": "markdown",
   "metadata": {},
   "source": [
    "### From the confusion matrix, we see that by adding more features to this version of our classifier, specifically features that represented negative sentiment(0), the false positives decreased."
   ]
  },
  {
   "cell_type": "markdown",
   "metadata": {},
   "source": [
    "# Version 3:"
   ]
  },
  {
   "cell_type": "code",
   "execution_count": 371,
   "metadata": {},
   "outputs": [],
   "source": [
    "df2 = pd.read_csv(\"imdb_labelled.csv\", header=None)\n",
    "df2.columns = ['message', 'sentiment']\n",
    "df2 = df2.dropna()\n",
    "df2 = df2.drop_duplicates()\n",
    "df2 = df2.reset_index()\n",
    "\n",
    "#print(df2.head())"
   ]
  },
  {
   "cell_type": "code",
   "execution_count": 372,
   "metadata": {},
   "outputs": [],
   "source": [
    "keywords3 = ['great', 'good', 'well', 'fresh', 'applause', 'liked', 'great', 'nice', 'edge', 'brilliant', 'rocked', 'excellent',\n",
    "             'renowned', 'incredible', 'shined', 'absolutely', 'genius', 'perfect', 'fascinated', 'music',\n",
    "             'thriller', 'enjoyed', 'beautiful', 'trilogy', 'spoiler', 'stunning', 'sweet', 'funny', 'classic']\n",
    "             \n",
    "             \n",
    "for key3 in keywords3:\n",
    "\n",
    "    df2[str(key3)] = df2.message.str.contains(\n",
    "        ' ' + str(key3) + ' ',\n",
    "        case=False\n",
    "    )"
   ]
  },
  {
   "cell_type": "code",
   "execution_count": 373,
   "metadata": {},
   "outputs": [
    {
     "name": "stdout",
     "output_type": "stream",
     "text": [
      "AxesSubplot(0.125,0.125;0.62x0.755)\n"
     ]
    },
    {
     "data": {
      "image/png": "[encoded data removed]",
      "text/plain": [
       "<Figure size 432x288 with 2 Axes>"
      ]
     },
     "metadata": {
      "needs_background": "light"
     },
     "output_type": "display_data"
    }
   ],
   "source": [
    "df_heat2 = sns.heatmap(df2.corr(), vmin= -1)\n",
    "\n",
    "print(df_heat2)"
   ]
  },
  {
   "cell_type": "code",
   "execution_count": 374,
   "metadata": {},
   "outputs": [],
   "source": [
    "data3 = df2[keywords3]\n",
    "target3 = df2['sentiment']"
   ]
  },
  {
   "cell_type": "code",
   "execution_count": 375,
   "metadata": {},
   "outputs": [
    {
     "name": "stdout",
     "output_type": "stream",
     "text": [
      "Number of mislabeled points out of a total 992 points : 373\n"
     ]
    }
   ],
   "source": [
    "# Our data is binary / boolean, so we're importing the Bernoulli classifier.\n",
    "from sklearn.naive_bayes import BernoulliNB\n",
    "\n",
    "# Instantiate our model and store it in a new variable.\n",
    "bnb3 = BernoulliNB()\n",
    "\n",
    "# Fit our model to the data.\n",
    "bnb3.fit(data3, target3)\n",
    "\n",
    "# Classify, storing the result in a new variable.\n",
    "y_pred3 = bnb3.predict(data3)\n",
    "\n",
    "#print(y_pred)\n",
    "\n",
    "# Display our results.\n",
    "print(\"Number of mislabeled points out of a total {} points : {}\".format(\n",
    "    data3.shape[0],\n",
    "    (target3 != y_pred3).sum()\n",
    "))"
   ]
  },
  {
   "cell_type": "code",
   "execution_count": 376,
   "metadata": {},
   "outputs": [
    {
     "data": {
      "text/plain": [
       "array([[476,  23],\n",
       "       [350, 143]], dtype=int64)"
      ]
     },
     "execution_count": 376,
     "metadata": {},
     "output_type": "execute_result"
    }
   ],
   "source": [
    "from sklearn.metrics import confusion_matrix\n",
    "confusion_matrix(target3, y_pred3)"
   ]
  },
  {
   "cell_type": "markdown",
   "metadata": {},
   "source": [
    "### In this version, we created new features to identify good sentiment(1).  From the confusion matrix, we see that the false negatives increased; our model incorrectly predicted negative sentiment(0) when the message actually represented postive sentiment(1)."
   ]
  },
  {
   "cell_type": "markdown",
   "metadata": {},
   "source": [
    "# Version 4:"
   ]
  },
  {
   "cell_type": "code",
   "execution_count": 377,
   "metadata": {},
   "outputs": [],
   "source": [
    "df3 = pd.read_csv(\"imdb_labelled.csv\", header=None)\n",
    "df3.columns = ['message', 'sentiment']\n",
    "df3 = df3.dropna()\n",
    "df3 = df3.drop_duplicates()\n",
    "df3 = df3.reset_index()\n",
    "\n",
    "#print(df3.head())"
   ]
  },
  {
   "cell_type": "code",
   "execution_count": 378,
   "metadata": {},
   "outputs": [],
   "source": [
    "keywords4 = ['bad', 'boring','worst', 'wasted', 'insult', 'horrible', 'embarrassing', 'predictable',\n",
    "            'hated', 'very', 'not', 'lost', 'average', 'problem', 'nothing', 'ridiculous', 'pretentious', \n",
    "            'long', 'suffered', 'weak', 'vomit', 'tolerate', 'sloppy', 'tortured', 'rough', 'irritating',\n",
    "            'idiot', 'mess', 'excuse', 'bother', 'failed', 'stupid', 'awful', 'painful', 'laughable',\n",
    "            'great', 'well', 'fresh', 'applause', 'liked', 'great', 'nice', 'edge', 'brilliant', 'rocked', 'excellent',\n",
    "            'renowned', 'incredible', 'shined', 'absolutely', 'genius', 'perfect', 'fascinated', 'music',\n",
    "            'thriller', 'enjoyed', 'beautiful', 'trilogy', 'spoiler', 'stunning', 'sweet', 'funny', 'classic']\n",
    "            \n",
    "            \n",
    "for key4 in keywords4:\n",
    "\n",
    "    df3[str(key4)] = df3.message.str.contains(\n",
    "        ' ' + str(key4) + ' ',\n",
    "        case=False\n",
    "    )\n"
   ]
  },
  {
   "cell_type": "code",
   "execution_count": 379,
   "metadata": {},
   "outputs": [
    {
     "name": "stdout",
     "output_type": "stream",
     "text": [
      "AxesSubplot(0.125,0.125;0.62x0.755)\n"
     ]
    },
    {
     "data": {
      "image/png": "[encoded data removed]",
      "text/plain": [
       "<Figure size 432x288 with 2 Axes>"
      ]
     },
     "metadata": {
      "needs_background": "light"
     },
     "output_type": "display_data"
    }
   ],
   "source": [
    "df_heat3 = sns.heatmap(df3.corr(), vmin= -1)\n",
    "\n",
    "print(df_heat3)"
   ]
  },
  {
   "cell_type": "code",
   "execution_count": 380,
   "metadata": {},
   "outputs": [],
   "source": [
    "data4 = df3[keywords4]\n",
    "target4 = df3['sentiment']"
   ]
  },
  {
   "cell_type": "code",
   "execution_count": 381,
   "metadata": {},
   "outputs": [
    {
     "name": "stdout",
     "output_type": "stream",
     "text": [
      "Number of mislabeled points out of a total 992 points : 386\n"
     ]
    }
   ],
   "source": [
    "# Our data is binary / boolean, so we're importing the Bernoulli classifier.\n",
    "from sklearn.naive_bayes import BernoulliNB\n",
    "\n",
    "# Instantiate our model and store it in a new variable.\n",
    "bnb4 = BernoulliNB()\n",
    "\n",
    "# Fit our model to the data.\n",
    "bnb4.fit(data4, target4)\n",
    "\n",
    "# Classify, storing the result in a new variable.\n",
    "y_pred4 = bnb4.predict(data4)\n",
    "\n",
    "#print(y_pred)\n",
    "\n",
    "# Display our results.\n",
    "print(\"Number of mislabeled points out of a total {} points : {}\".format(\n",
    "    data4.shape[0],\n",
    "    (target4 != y_pred4).sum()\n",
    "))"
   ]
  },
  {
   "cell_type": "code",
   "execution_count": 382,
   "metadata": {},
   "outputs": [
    {
     "data": {
      "text/plain": [
       "array([[489,  10],\n",
       "       [376, 117]], dtype=int64)"
      ]
     },
     "execution_count": 382,
     "metadata": {},
     "output_type": "execute_result"
    }
   ],
   "source": [
    "from sklearn.metrics import confusion_matrix\n",
    "confusion_matrix(target4, y_pred4)"
   ]
  },
  {
   "cell_type": "markdown",
   "metadata": {},
   "source": [
    "### For this version, I combined the positive and negative keyword features with the hope of creating a more accurate model.  From the confusion matrix, we see that the false negatives and true positives stayed consistent."
   ]
  },
  {
   "cell_type": "markdown",
   "metadata": {},
   "source": [
    "# Cross Validation"
   ]
  },
  {
   "cell_type": "markdown",
   "metadata": {},
   "source": [
    "#### Version 1"
   ]
  },
  {
   "cell_type": "code",
   "execution_count": 383,
   "metadata": {},
   "outputs": [
    {
     "data": {
      "text/plain": [
       "array([0.59      , 0.57      , 0.54      , 0.55555556, 0.58585859,\n",
       "       0.5959596 , 0.58585859, 0.60606061, 0.54545455, 0.60204082])"
      ]
     },
     "execution_count": 383,
     "metadata": {},
     "output_type": "execute_result"
    }
   ],
   "source": [
    "from sklearn.model_selection import cross_val_score\n",
    "cross_val_score(bnb, data, target, cv=10)"
   ]
  },
  {
   "cell_type": "markdown",
   "metadata": {},
   "source": [
    "#### Version 2"
   ]
  },
  {
   "cell_type": "code",
   "execution_count": 384,
   "metadata": {},
   "outputs": [
    {
     "data": {
      "text/plain": [
       "array([0.59      , 0.57      , 0.55      , 0.55555556, 0.60606061,\n",
       "       0.61616162, 0.61616162, 0.61616162, 0.56565657, 0.60204082])"
      ]
     },
     "execution_count": 384,
     "metadata": {},
     "output_type": "execute_result"
    }
   ],
   "source": [
    "from sklearn.model_selection import cross_val_score\n",
    "cross_val_score(bnb2, data2, target2, cv=10)"
   ]
  },
  {
   "cell_type": "markdown",
   "metadata": {},
   "source": [
    "#### Version 3"
   ]
  },
  {
   "cell_type": "code",
   "execution_count": 385,
   "metadata": {},
   "outputs": [
    {
     "data": {
      "text/plain": [
       "array([0.59      , 0.65      , 0.65      , 0.63636364, 0.60606061,\n",
       "       0.66666667, 0.63636364, 0.58585859, 0.54545455, 0.55102041])"
      ]
     },
     "execution_count": 385,
     "metadata": {},
     "output_type": "execute_result"
    }
   ],
   "source": [
    "from sklearn.model_selection import cross_val_score\n",
    "cross_val_score(bnb3, data3, target3, cv=10)"
   ]
  },
  {
   "cell_type": "markdown",
   "metadata": {},
   "source": [
    "#### Version 4"
   ]
  },
  {
   "cell_type": "code",
   "execution_count": 386,
   "metadata": {},
   "outputs": [
    {
     "data": {
      "text/plain": [
       "array([0.55      , 0.66      , 0.63      , 0.5959596 , 0.58585859,\n",
       "       0.65656566, 0.60606061, 0.55555556, 0.55555556, 0.57142857])"
      ]
     },
     "execution_count": 386,
     "metadata": {},
     "output_type": "execute_result"
    }
   ],
   "source": [
    "from sklearn.model_selection import cross_val_score\n",
    "cross_val_score(bnb4, data4, target4, cv=10)"
   ]
  },
  {
   "cell_type": "markdown",
   "metadata": {},
   "source": [
    "## Question 1:\n",
    "\n",
    "I don't think any of the classifier's are overfit.  However, some of them, such as version 4, may be underfit."
   ]
  },
  {
   "cell_type": "markdown",
   "metadata": {},
   "source": [
    "## Question 2: \n",
    "\n",
    "Version 3 seems to perform the best, because we increased our features to better identify negative sentiments."
   ]
  },
  {
   "cell_type": "markdown",
   "metadata": {},
   "source": [
    "## Question 3:\n",
    "\n",
    "The features that have less correlation amongst each other, but instead can demonstrate a strong underlying relationship with our outcome variable seem to perform the best."
   ]
  }
 ],
 "metadata": {
  "kernelspec": {
   "display_name": "Python 3",
   "language": "python",
   "name": "python3"
  },
  "language_info": {
   "codemirror_mode": {
    "name": "ipython",
    "version": 3
   },
   "file_extension": ".py",
   "mimetype": "text/x-python",
   "name": "python",
   "nbconvert_exporter": "python",
   "pygments_lexer": "ipython3",
   "version": "3.7.0"
  }
 },
 "nbformat": 4,
 "nbformat_minor": 2
}
